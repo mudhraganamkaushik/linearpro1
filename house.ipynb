{
  "nbformat": 4,
  "nbformat_minor": 0,
  "metadata": {
    "colab": {
      "provenance": [],
      "collapsed_sections": [
        "KS-M0pEVQzGc"
      ],
      "mount_file_id": "1cmMYW7KE5fvDn7OwTdQe1CI3biHhK8_W",
      "authorship_tag": "ABX9TyOdm8f9wzl8n2jeKRuGPeyk",
      "include_colab_link": true
    },
    "kernelspec": {
      "name": "python3",
      "display_name": "Python 3"
    },
    "language_info": {
      "name": "python"
    }
  },
  "cells": [
    {
      "cell_type": "markdown",
      "metadata": {
        "id": "view-in-github",
        "colab_type": "text"
      },
      "source": [
        "<a href=\"https://colab.research.google.com/github/mudhraganamkaushik/linearpro1/blob/main/house.ipynb\" target=\"_parent\"><img src=\"https://colab.research.google.com/assets/colab-badge.svg\" alt=\"Open In Colab\"/></a>"
      ]
    },
    {
      "cell_type": "code",
      "execution_count": null,
      "metadata": {
        "id": "eEgMgEtEQZLU"
      },
      "outputs": [],
      "source": [
        "import pandas as pd\n",
        "import matplotlib.pyplot as plt\n",
        "import numpy as np\n"
      ]
    },
    {
      "cell_type": "code",
      "source": [
        "data =pd.read_csv(\"Raw_Housing_Prices.csv\")\n",
        "data.head(10)\n"
      ],
      "metadata": {
        "id": "AUR7EDMw064Q"
      },
      "execution_count": null,
      "outputs": []
    },
    {
      "cell_type": "code",
      "source": [
        "sl=data[\"Sale Price\"].head(30)\n",
        "fa=data['Flat Area (in Sqft)'].head(30)\n",
        "sample_data=pd.DataFrame({'sl':sl,'fa':fa})\n",
        "sample_data"
      ],
      "metadata": {
        "id": "D124YqSD4mm2"
      },
      "execution_count": null,
      "outputs": []
    },
    {
      "cell_type": "code",
      "source": [
        "import matplotlib.pyplot as plt\n",
        "sample_data['mean_sl']=sample_data.sl.mean()\n",
        "plt.figure(dpi=150)\n",
        "plt.scatter(sample_data.fa,sample_data.sl,color='red')\n",
        "plt.plot(sample_data.fa,sample_data.mean_sl,color='yellow',label='mean_sl')\n",
        "plt.legend()\n",
        "plt.show()"
      ],
      "metadata": {
        "id": "qTNAqh3l4xR4"
      },
      "execution_count": null,
      "outputs": []
    },
    {
      "cell_type": "code",
      "source": [
        "def param(Y):\n",
        "  m=0.1\n",
        "  c=Y.mean()\n",
        "  return m,c\n"
      ],
      "metadata": {
        "id": "dvNTZCa59dr5"
      },
      "execution_count": null,
      "outputs": []
    },
    {
      "cell_type": "code",
      "source": [
        "def gen(m,c,X):\n",
        "  pred=[]\n",
        "  for i in X:\n",
        "    p=(m*i)+c\n",
        "    pred.append(p)\n",
        "  return pred"
      ],
      "metadata": {
        "id": "uj6ZOuQnJnyB"
      },
      "execution_count": null,
      "outputs": []
    },
    {
      "cell_type": "code",
      "source": [
        " def cost(pred,Y):\n",
        "  cost=np.sum(((pred-Y)**2)/len(Y))\n",
        "  return cost"
      ],
      "metadata": {
        "id": "h5DDXbPwJ-3c"
      },
      "execution_count": null,
      "outputs": []
    },
    {
      "cell_type": "code",
      "source": [
        "def gradi(pred,Y,X):\n",
        "  n=len(Y)\n",
        "  gm=2/n*np.sum((pred-Y)*X)\n",
        "  gc=2/n*np.sum((pred-Y))\n",
        "  return gm,gc"
      ],
      "metadata": {
        "id": "58gT7JxEKWcL"
      },
      "execution_count": null,
      "outputs": []
    },
    {
      "cell_type": "code",
      "source": [],
      "metadata": {
        "id": "U5VhQ4MlMaoY"
      },
      "execution_count": null,
      "outputs": []
    },
    {
      "cell_type": "code",
      "source": [
        "def grad_u(m_o,c_o,gm_o,gc_o,alp):\n",
        "  m_n=m_o-al*gm_o\n",
        "  c_n=c_o-al*gc_o\n",
        "  return m_n,c_n"
      ],
      "metadata": {
        "id": "tUhkFHaqK-3l"
      },
      "execution_count": null,
      "outputs": []
    },
    {
      "cell_type": "code",
      "source": [
        "def result(m,c,X,Y,cost,pred,i):\n",
        "  if i< max_i -1:\n",
        "    print(\"**** gd is converged at iteration {}****\".format(i))\n",
        "  else:\n",
        "    print(\"**** result after\",max_i,'iterations is: ****')\n",
        "  plt.figure(dpi=120)\n",
        "  plt.scatter(X,Y,color='red',label='data_p')\n",
        "  label='final reg line:m={};c={}'.format(str(m),str(c))\n",
        "  plt.plot(X,pred,color='green',label=label)\n",
        "  plt.xlabel('flat_a')\n",
        "  plt.ylabel('sale_p')\n",
        "  plt.legend()"
      ],
      "metadata": {
        "id": "QSyN0AGVMcCC"
      },
      "execution_count": null,
      "outputs": []
    },
    {
      "cell_type": "code",
      "source": [
        "from sklearn.preprocessing import StandardScaler\n",
        "scaler=StandardScaler()\n",
        "\n",
        "\n",
        "sl=scaler.fit_transform(sample_data['sl'].values.reshape(-1,1))\n",
        "fa=scaler.fit_transform(sample_data['fa'].values.reshape(-1,1))\n",
        "max_i=1000\n",
        "cost_o=0\n",
        "al=0.01\n",
        "m,c=param(sl)\n",
        "for i in range(0,max_i):\n",
        "  pred=gen(m,c,fa)\n",
        "  cost_n=cost(pred,sl)\n",
        "  if abs(cost_n-cost_o)<10**(-7):\n",
        "    break\n",
        "\n",
        "  gm,gc=gradi(pred,sl,fa)\n",
        "  m,c=grad_u(m,c,gm,gc,al)\n",
        "  if i%20 == 0:\n",
        "       print('After Iteration',i,':m =',m,'; c =',c,';cost =',cost_n)\n",
        "  cost_o=cost_n\n",
        "result(m,c,fa,sl,cost_n,pred,i)\n",
        "\n",
        "\n",
        "\n",
        "\n"
      ],
      "metadata": {
        "id": "7UPiVvZ8OSjx"
      },
      "execution_count": null,
      "outputs": []
    }
  ]
}